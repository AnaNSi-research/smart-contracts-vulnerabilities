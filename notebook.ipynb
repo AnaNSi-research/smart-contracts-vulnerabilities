{
 "cells": [
  {
   "cell_type": "code",
   "execution_count": null,
   "metadata": {
    "cell_id": "60fc9499-96ad-4623-8fdf-8ed21511eb2d",
    "deepnote_cell_height": 330,
    "deepnote_cell_type": "code",
    "deepnote_to_be_reexecuted": false,
    "execution_millis": 730,
    "execution_start": 1648728634530,
    "source_hash": "dff50d2d",
    "tags": []
   },
   "outputs": [
    {
     "name": "stdout",
     "output_type": "stream",
     "text": [
      "--2022-03-31 12:10:35--  https://raw.githubusercontent.com/sujeetc/ScrawlD/main/data/contracts.csv\n",
      "Resolving raw.githubusercontent.com (raw.githubusercontent.com)... 185.199.108.133, 185.199.109.133, 185.199.110.133, ...\n",
      "Connecting to raw.githubusercontent.com (raw.githubusercontent.com)|185.199.108.133|:443... connected.\n",
      "HTTP request sent, awaiting response... 200 OK\n",
      "Length: 397844 (389K) [text/plain]\n",
      "Saving to: ‘contracts.csv’\n",
      "\n",
      "contracts.csv       100%[===================>] 388.52K  --.-KB/s    in 0.007s  \n",
      "\n",
      "2022-03-31 12:10:35 (52.4 MB/s) - ‘contracts.csv’ saved [397844/397844]\n",
      "\n"
     ]
    }
   ],
   "source": [
    "!wget https://raw.githubusercontent.com/sujeetc/ScrawlD/main/data/majority_result.json\n",
    "!wget https://raw.githubusercontent.com/sujeetc/ScrawlD/main/data/contracts.csv"
   ]
  },
  {
   "cell_type": "code",
   "execution_count": 1,
   "metadata": {
    "cell_id": "b448253253ca4e97bf2b150685ebb635",
    "deepnote_cell_height": 171,
    "deepnote_cell_type": "code",
    "deepnote_to_be_reexecuted": false,
    "execution_millis": 1,
    "execution_start": 1648729668964,
    "source_hash": "ae756c2d",
    "tags": []
   },
   "outputs": [
    {
     "name": "stderr",
     "output_type": "stream",
     "text": [
      "100%|██████████| 9252/9252 [2:57:46<00:00,  1.15s/it]   \n"
     ]
    }
   ],
   "source": [
    "\n",
    "from src.get_data import DataManager\n",
    "\n",
    "data_manager = DataManager(base_path='./data')\n",
    "data_manager.download()"
   ]
  },
  {
   "cell_type": "code",
   "execution_count": null,
   "metadata": {
    "cell_id": "d71a9afeb7bc45ff8f4f913c40fa0822",
    "deepnote_cell_height": 436,
    "deepnote_cell_type": "code",
    "deepnote_to_be_reexecuted": false,
    "execution_millis": 125,
    "execution_start": 1648732831300,
    "source_hash": "40f95e1d",
    "tags": []
   },
   "outputs": [
    {
     "name": "stdout",
     "output_type": "stream",
     "text": [
      "True\n"
     ]
    }
   ],
   "source": [
    "\n",
    "\n",
    "\n",
    "\"\"\"\n",
    "To read from binary files:\n",
    "\n",
    "from hexbytes import HexBytes\n",
    "with open(file_path, 'rb') as in_file:\n",
    "    inp = in_file.read()\n",
    "inp = HexBytes(inp)\n",
    "\n",
    "\"\"\"\n"
   ]
  }
 ],
 "metadata": {
  "deepnote": {
   "is_reactive": false
  },
  "deepnote_execution_queue": [],
  "deepnote_notebook_id": "372a2514-2da2-43f6-846a-4b7c3612d8b6",
  "interpreter": {
   "hash": "58ae329746b6c15843ea72f9f9ed275a73ffecc9d8ad0936ccae7774f70aeefe"
  },
  "kernelspec": {
   "display_name": "Python 3.9.11 ('blockchain')",
   "language": "python",
   "name": "python3"
  },
  "language_info": {
   "codemirror_mode": {
    "name": "ipython",
    "version": 3
   },
   "file_extension": ".py",
   "mimetype": "text/x-python",
   "name": "python",
   "nbconvert_exporter": "python",
   "pygments_lexer": "ipython3",
   "version": "3.9.11"
  },
  "orig_nbformat": 2
 },
 "nbformat": 4,
 "nbformat_minor": 2
}
