{
 "cells": [
  {
   "cell_type": "code",
   "execution_count": 1,
   "metadata": {},
   "outputs": [
    {
     "name": "stderr",
     "output_type": "stream",
     "text": [
      "Reusing dataset slither_audited_smart_contracts (C:\\Users\\Martina\\.cache\\huggingface\\datasets\\mwritescode___slither_audited_smart_contracts\\big-multilabel\\1.1.0\\61c8c5423cac41af5b8ad9c54b84207788cee810a3e2db7bf57a1deb451bbb2a)\n",
      "Reusing dataset slither_audited_smart_contracts (C:\\Users\\Martina\\.cache\\huggingface\\datasets\\mwritescode___slither_audited_smart_contracts\\big-multilabel\\1.1.0\\61c8c5423cac41af5b8ad9c54b84207788cee810a3e2db7bf57a1deb451bbb2a)\n",
      "Loading cached processed dataset at C:\\Users\\Martina\\.cache\\huggingface\\datasets\\mwritescode___slither_audited_smart_contracts\\big-multilabel\\1.1.0\\61c8c5423cac41af5b8ad9c54b84207788cee810a3e2db7bf57a1deb451bbb2a\\cache-4049ba41c9bc57c8.arrow\n",
      "Loading cached processed dataset at C:\\Users\\Martina\\.cache\\huggingface\\datasets\\mwritescode___slither_audited_smart_contracts\\big-multilabel\\1.1.0\\61c8c5423cac41af5b8ad9c54b84207788cee810a3e2db7bf57a1deb451bbb2a\\cache-66be2ead5075ac38.arrow\n"
     ]
    }
   ],
   "source": [
    "import torch\n",
    "import numpy as np\n",
    "\n",
    "from torch import nn\n",
    "from torch import optim\n",
    "from torchinfo import summary\n",
    "from datasets import load_dataset\n",
    "from torchvision import transforms\n",
    "from torch.utils.data import DataLoader\n",
    "from torch.nn.functional import normalize\n",
    "from sklearn.metrics import accuracy_score\n",
    "\n",
    "from src.config import config\n",
    "from src.data.stats import GetMeanStd\n",
    "from src.utils.registry import REGISTRY\n",
    "from src.utils.trainer import Trainer\n",
    "from src.modeling.solver.loss import SigmoidFocalLoss\n",
    "from src.modeling.network import MultitaskModel, Head\n",
    "from src.modeling.network.backbone import ResNet1D, ResNetModel, InceptionModel\n",
    "from src.data.transform import generate_image_and_binary_label, generate_image_and_label\n",
    "from src.data.transform import generate_signal_and_binary_label, generate_signal_and_label\n",
    "from src.utils.callbacks import MetricsCallback, EarlyStopper, TensorBoardLogger, CheckpointSaver\n",
    "\n",
    "#TODO:find out why the huggingface dataset has problems with the checksum verifications\n",
    "train_ds = load_dataset(\"mwritescode/slither-audited-smart-contracts\", 'big-multilabel', split='train', ignore_verifications=True)\n",
    "val_ds = load_dataset(\"mwritescode/slither-audited-smart-contracts\", 'big-multilabel', split='validation', ignore_verifications=True)\n",
    "\n",
    "\n",
    "train_ds = train_ds.filter(lambda elem: elem['bytecode'] != '0x')\n",
    "val_ds = val_ds.filter(lambda elem: elem['bytecode'] != '0x')"
   ]
  },
  {
   "cell_type": "code",
   "execution_count": 3,
   "metadata": {},
   "outputs": [
    {
     "ename": "ValueError",
     "evalue": "Type mismatch (<class 'list'> vs. <class 'str'>) with values (['macro'] vs. macro) for config key: TRAINING.TRACK_METRICS.AVERAGE",
     "output_type": "error",
     "traceback": [
      "\u001b[1;31m---------------------------------------------------------------------------\u001b[0m",
      "\u001b[1;31mValueError\u001b[0m                                Traceback (most recent call last)",
      "\u001b[1;32mc:\\Users\\Martina\\Documents\\uni-projects\\smart-contracts-vulnerabilities\\train.ipynb Cell 2'\u001b[0m in \u001b[0;36m<cell line: 4>\u001b[1;34m()\u001b[0m\n\u001b[0;32m      <a href='vscode-notebook-cell:/c%3A/Users/Martina/Documents/uni-projects/smart-contracts-vulnerabilities/train.ipynb#ch0000002?line=0'>1</a>\u001b[0m CFG_PATH \u001b[39m=\u001b[39m \u001b[39m'\u001b[39m\u001b[39msrc/config/experiments/default.yaml\u001b[39m\u001b[39m'\u001b[39m\n\u001b[0;32m      <a href='vscode-notebook-cell:/c%3A/Users/Martina/Documents/uni-projects/smart-contracts-vulnerabilities/train.ipynb#ch0000002?line=2'>3</a>\u001b[0m cfg \u001b[39m=\u001b[39m config\u001b[39m.\u001b[39mget_cfg_defaults()\n\u001b[1;32m----> <a href='vscode-notebook-cell:/c%3A/Users/Martina/Documents/uni-projects/smart-contracts-vulnerabilities/train.ipynb#ch0000002?line=3'>4</a>\u001b[0m cfg\u001b[39m.\u001b[39;49mmerge_from_file(CFG_PATH)\n\u001b[0;32m      <a href='vscode-notebook-cell:/c%3A/Users/Martina/Documents/uni-projects/smart-contracts-vulnerabilities/train.ipynb#ch0000002?line=4'>5</a>\u001b[0m cfg\u001b[39m.\u001b[39mfreeze()\n",
      "File \u001b[1;32mc:\\Users\\Martina\\miniconda3\\envs\\blockchain\\lib\\site-packages\\yacs\\config.py:213\u001b[0m, in \u001b[0;36mCfgNode.merge_from_file\u001b[1;34m(self, cfg_filename)\u001b[0m\n\u001b[0;32m    <a href='file:///c%3A/Users/Martina/miniconda3/envs/blockchain/lib/site-packages/yacs/config.py?line=210'>211</a>\u001b[0m \u001b[39mwith\u001b[39;00m \u001b[39mopen\u001b[39m(cfg_filename, \u001b[39m\"\u001b[39m\u001b[39mr\u001b[39m\u001b[39m\"\u001b[39m) \u001b[39mas\u001b[39;00m f:\n\u001b[0;32m    <a href='file:///c%3A/Users/Martina/miniconda3/envs/blockchain/lib/site-packages/yacs/config.py?line=211'>212</a>\u001b[0m     cfg \u001b[39m=\u001b[39m \u001b[39mself\u001b[39m\u001b[39m.\u001b[39mload_cfg(f)\n\u001b[1;32m--> <a href='file:///c%3A/Users/Martina/miniconda3/envs/blockchain/lib/site-packages/yacs/config.py?line=212'>213</a>\u001b[0m \u001b[39mself\u001b[39;49m\u001b[39m.\u001b[39;49mmerge_from_other_cfg(cfg)\n",
      "File \u001b[1;32mc:\\Users\\Martina\\miniconda3\\envs\\blockchain\\lib\\site-packages\\yacs\\config.py:217\u001b[0m, in \u001b[0;36mCfgNode.merge_from_other_cfg\u001b[1;34m(self, cfg_other)\u001b[0m\n\u001b[0;32m    <a href='file:///c%3A/Users/Martina/miniconda3/envs/blockchain/lib/site-packages/yacs/config.py?line=214'>215</a>\u001b[0m \u001b[39mdef\u001b[39;00m \u001b[39mmerge_from_other_cfg\u001b[39m(\u001b[39mself\u001b[39m, cfg_other):\n\u001b[0;32m    <a href='file:///c%3A/Users/Martina/miniconda3/envs/blockchain/lib/site-packages/yacs/config.py?line=215'>216</a>\u001b[0m     \u001b[39m\"\"\"Merge `cfg_other` into this CfgNode.\"\"\"\u001b[39;00m\n\u001b[1;32m--> <a href='file:///c%3A/Users/Martina/miniconda3/envs/blockchain/lib/site-packages/yacs/config.py?line=216'>217</a>\u001b[0m     _merge_a_into_b(cfg_other, \u001b[39mself\u001b[39;49m, \u001b[39mself\u001b[39;49m, [])\n",
      "File \u001b[1;32mc:\\Users\\Martina\\miniconda3\\envs\\blockchain\\lib\\site-packages\\yacs\\config.py:478\u001b[0m, in \u001b[0;36m_merge_a_into_b\u001b[1;34m(a, b, root, key_list)\u001b[0m\n\u001b[0;32m    <a href='file:///c%3A/Users/Martina/miniconda3/envs/blockchain/lib/site-packages/yacs/config.py?line=475'>476</a>\u001b[0m \u001b[39mif\u001b[39;00m \u001b[39misinstance\u001b[39m(v, CfgNode):\n\u001b[0;32m    <a href='file:///c%3A/Users/Martina/miniconda3/envs/blockchain/lib/site-packages/yacs/config.py?line=476'>477</a>\u001b[0m     \u001b[39mtry\u001b[39;00m:\n\u001b[1;32m--> <a href='file:///c%3A/Users/Martina/miniconda3/envs/blockchain/lib/site-packages/yacs/config.py?line=477'>478</a>\u001b[0m         _merge_a_into_b(v, b[k], root, key_list \u001b[39m+\u001b[39;49m [k])\n\u001b[0;32m    <a href='file:///c%3A/Users/Martina/miniconda3/envs/blockchain/lib/site-packages/yacs/config.py?line=478'>479</a>\u001b[0m     \u001b[39mexcept\u001b[39;00m \u001b[39mBaseException\u001b[39;00m:\n\u001b[0;32m    <a href='file:///c%3A/Users/Martina/miniconda3/envs/blockchain/lib/site-packages/yacs/config.py?line=479'>480</a>\u001b[0m         \u001b[39mraise\u001b[39;00m\n",
      "File \u001b[1;32mc:\\Users\\Martina\\miniconda3\\envs\\blockchain\\lib\\site-packages\\yacs\\config.py:478\u001b[0m, in \u001b[0;36m_merge_a_into_b\u001b[1;34m(a, b, root, key_list)\u001b[0m\n\u001b[0;32m    <a href='file:///c%3A/Users/Martina/miniconda3/envs/blockchain/lib/site-packages/yacs/config.py?line=475'>476</a>\u001b[0m \u001b[39mif\u001b[39;00m \u001b[39misinstance\u001b[39m(v, CfgNode):\n\u001b[0;32m    <a href='file:///c%3A/Users/Martina/miniconda3/envs/blockchain/lib/site-packages/yacs/config.py?line=476'>477</a>\u001b[0m     \u001b[39mtry\u001b[39;00m:\n\u001b[1;32m--> <a href='file:///c%3A/Users/Martina/miniconda3/envs/blockchain/lib/site-packages/yacs/config.py?line=477'>478</a>\u001b[0m         _merge_a_into_b(v, b[k], root, key_list \u001b[39m+\u001b[39;49m [k])\n\u001b[0;32m    <a href='file:///c%3A/Users/Martina/miniconda3/envs/blockchain/lib/site-packages/yacs/config.py?line=478'>479</a>\u001b[0m     \u001b[39mexcept\u001b[39;00m \u001b[39mBaseException\u001b[39;00m:\n\u001b[0;32m    <a href='file:///c%3A/Users/Martina/miniconda3/envs/blockchain/lib/site-packages/yacs/config.py?line=479'>480</a>\u001b[0m         \u001b[39mraise\u001b[39;00m\n",
      "File \u001b[1;32mc:\\Users\\Martina\\miniconda3\\envs\\blockchain\\lib\\site-packages\\yacs\\config.py:474\u001b[0m, in \u001b[0;36m_merge_a_into_b\u001b[1;34m(a, b, root, key_list)\u001b[0m\n\u001b[0;32m    <a href='file:///c%3A/Users/Martina/miniconda3/envs/blockchain/lib/site-packages/yacs/config.py?line=470'>471</a>\u001b[0m v \u001b[39m=\u001b[39m b\u001b[39m.\u001b[39m_decode_cfg_value(v)\n\u001b[0;32m    <a href='file:///c%3A/Users/Martina/miniconda3/envs/blockchain/lib/site-packages/yacs/config.py?line=472'>473</a>\u001b[0m \u001b[39mif\u001b[39;00m k \u001b[39min\u001b[39;00m b:\n\u001b[1;32m--> <a href='file:///c%3A/Users/Martina/miniconda3/envs/blockchain/lib/site-packages/yacs/config.py?line=473'>474</a>\u001b[0m     v \u001b[39m=\u001b[39m _check_and_coerce_cfg_value_type(v, b[k], k, full_key)\n\u001b[0;32m    <a href='file:///c%3A/Users/Martina/miniconda3/envs/blockchain/lib/site-packages/yacs/config.py?line=474'>475</a>\u001b[0m     \u001b[39m# Recursively merge dicts\u001b[39;00m\n\u001b[0;32m    <a href='file:///c%3A/Users/Martina/miniconda3/envs/blockchain/lib/site-packages/yacs/config.py?line=475'>476</a>\u001b[0m     \u001b[39mif\u001b[39;00m \u001b[39misinstance\u001b[39m(v, CfgNode):\n",
      "File \u001b[1;32mc:\\Users\\Martina\\miniconda3\\envs\\blockchain\\lib\\site-packages\\yacs\\config.py:534\u001b[0m, in \u001b[0;36m_check_and_coerce_cfg_value_type\u001b[1;34m(replacement, original, key, full_key)\u001b[0m\n\u001b[0;32m    <a href='file:///c%3A/Users/Martina/miniconda3/envs/blockchain/lib/site-packages/yacs/config.py?line=530'>531</a>\u001b[0m     \u001b[39mif\u001b[39;00m converted:\n\u001b[0;32m    <a href='file:///c%3A/Users/Martina/miniconda3/envs/blockchain/lib/site-packages/yacs/config.py?line=531'>532</a>\u001b[0m         \u001b[39mreturn\u001b[39;00m converted_value\n\u001b[1;32m--> <a href='file:///c%3A/Users/Martina/miniconda3/envs/blockchain/lib/site-packages/yacs/config.py?line=533'>534</a>\u001b[0m \u001b[39mraise\u001b[39;00m \u001b[39mValueError\u001b[39;00m(\n\u001b[0;32m    <a href='file:///c%3A/Users/Martina/miniconda3/envs/blockchain/lib/site-packages/yacs/config.py?line=534'>535</a>\u001b[0m     \u001b[39m\"\u001b[39m\u001b[39mType mismatch (\u001b[39m\u001b[39m{}\u001b[39;00m\u001b[39m vs. \u001b[39m\u001b[39m{}\u001b[39;00m\u001b[39m) with values (\u001b[39m\u001b[39m{}\u001b[39;00m\u001b[39m vs. \u001b[39m\u001b[39m{}\u001b[39;00m\u001b[39m) for config \u001b[39m\u001b[39m\"\u001b[39m\n\u001b[0;32m    <a href='file:///c%3A/Users/Martina/miniconda3/envs/blockchain/lib/site-packages/yacs/config.py?line=535'>536</a>\u001b[0m     \u001b[39m\"\u001b[39m\u001b[39mkey: \u001b[39m\u001b[39m{}\u001b[39;00m\u001b[39m\"\u001b[39m\u001b[39m.\u001b[39mformat(\n\u001b[0;32m    <a href='file:///c%3A/Users/Martina/miniconda3/envs/blockchain/lib/site-packages/yacs/config.py?line=536'>537</a>\u001b[0m         original_type, replacement_type, original, replacement, full_key\n\u001b[0;32m    <a href='file:///c%3A/Users/Martina/miniconda3/envs/blockchain/lib/site-packages/yacs/config.py?line=537'>538</a>\u001b[0m     )\n\u001b[0;32m    <a href='file:///c%3A/Users/Martina/miniconda3/envs/blockchain/lib/site-packages/yacs/config.py?line=538'>539</a>\u001b[0m )\n",
      "\u001b[1;31mValueError\u001b[0m: Type mismatch (<class 'list'> vs. <class 'str'>) with values (['macro'] vs. macro) for config key: TRAINING.TRACK_METRICS.AVERAGE"
     ]
    }
   ],
   "source": [
    "CFG_PATH = 'src/config/experiments/default.yaml'\n",
    "\n",
    "cfg = config.get_cfg_defaults()\n",
    "cfg.merge_from_file(CFG_PATH)\n",
    "cfg.freeze()"
   ]
  },
  {
   "cell_type": "code",
   "execution_count": 2,
   "metadata": {},
   "outputs": [
    {
     "ename": "NameError",
     "evalue": "name 'cfg' is not defined",
     "output_type": "error",
     "traceback": [
      "\u001b[1;31m---------------------------------------------------------------------------\u001b[0m",
      "\u001b[1;31mNameError\u001b[0m                                 Traceback (most recent call last)",
      "\u001b[1;32mc:\\Users\\Martina\\Documents\\uni-projects\\smart-contracts-vulnerabilities\\train.ipynb Cell 3'\u001b[0m in \u001b[0;36m<cell line: 1>\u001b[1;34m()\u001b[0m\n\u001b[1;32m----> <a href='vscode-notebook-cell:/c%3A/Users/Martina/Documents/uni-projects/smart-contracts-vulnerabilities/train.ipynb#ch0000003?line=0'>1</a>\u001b[0m \u001b[39mif\u001b[39;00m cfg\u001b[39m.\u001b[39mDATASET\u001b[39m.\u001b[39mRGB_IMAGES \u001b[39mand\u001b[39;00m cfg\u001b[39m.\u001b[39mDATASET\u001b[39m.\u001b[39mBINARY_LABELS:\n\u001b[0;32m      <a href='vscode-notebook-cell:/c%3A/Users/Martina/Documents/uni-projects/smart-contracts-vulnerabilities/train.ipynb#ch0000003?line=1'>2</a>\u001b[0m     map_func \u001b[39m=\u001b[39m generate_image_and_binary_label\n\u001b[0;32m      <a href='vscode-notebook-cell:/c%3A/Users/Martina/Documents/uni-projects/smart-contracts-vulnerabilities/train.ipynb#ch0000003?line=2'>3</a>\u001b[0m \u001b[39melif\u001b[39;00m cfg\u001b[39m.\u001b[39mDATASET\u001b[39m.\u001b[39mRGB_IMAGES \u001b[39mand\u001b[39;00m \u001b[39mnot\u001b[39;00m cfg\u001b[39m.\u001b[39mDATASET\u001b[39m.\u001b[39mBINARY_LABELS:\n",
      "\u001b[1;31mNameError\u001b[0m: name 'cfg' is not defined"
     ]
    }
   ],
   "source": [
    "if cfg.DATASET.RGB_IMAGES and cfg.DATASET.BINARY_LABELS:\n",
    "    map_func = generate_image_and_binary_label\n",
    "elif cfg.DATASET.RGB_IMAGES and not cfg.DATASET.BINARY_LABELS:\n",
    "    map_func = generate_image_and_label\n",
    "elif not cfg.DATASET.RGB_IMAGES and cfg.DATASET.BINARY_LABELS:\n",
    "    map_func = generate_signal_and_binary_label\n",
    "else:\n",
    "    map_func = generate_signal_and_label\n",
    "\n",
    "train_ds = train_ds.map(map_func, remove_columns=['address', 'source_code', 'bytecode', 'slither'])\n",
    "val_ds = val_ds.map(map_func, remove_columns=['address', 'source_code', 'bytecode', 'slither'])"
   ]
  },
  {
   "cell_type": "code",
   "execution_count": 4,
   "metadata": {},
   "outputs": [
    {
     "name": "stderr",
     "output_type": "stream",
     "text": [
      "Computing stats..: 100%|██████████| 4964/4964 [03:31<00:00, 23.44it/s]\n"
     ]
    }
   ],
   "source": [
    "IMAGENET_MEAN = [0.485, 0.456, 0.406] \n",
    "IMAGENET_STD = [0.229, 0.224, 0.225]\n",
    "\n",
    "max_len = cfg.DATASET.MAX_SEQ_LEN\n",
    "\n",
    "if cfg.DATASET.RGB_IMAGES:\n",
    "    img_size = cfg.DATASET.IMG_SHAPE\n",
    "\n",
    "    if cfg.DATASET.USE_IMAGENET_STATS:\n",
    "        mean, std = IMAGENET_MEAN, IMAGENET_STD\n",
    "    else:\n",
    "        get_stats = GetMeanStd(train_ds, batch_size=16, img_size=img_size)\n",
    "        mean, std = get_stats()\n",
    "\n",
    "    img_transform = transforms.Compose([\n",
    "        transforms.Resize(img_size),\n",
    "        transforms.CenterCrop(img_size),\n",
    "        transforms.ToTensor(),\n",
    "        transforms.Normalize(mean=mean, std=std),\n",
    "    ])"
   ]
  },
  {
   "cell_type": "code",
   "execution_count": 8,
   "metadata": {},
   "outputs": [],
   "source": [
    "def img_label_to_tensor(examples):\n",
    "    if cfg.DATASET.RGB_IMAGES:\n",
    "        examples['image'] = [img_transform(elem) for elem in examples['image']]\n",
    "    else:\n",
    "        examples['image'] = [np.pad(img, pad_width=(0, max_len - len(img))) if len(img) < max_len else img[:max_len] for img in examples['image']]\n",
    "        examples['image'] = [torch.unsqueeze(normalize(torch.tensor(img).float(), dim=0), dim=0) for img in examples['image']]\n",
    "    \n",
    "    if cfg.DATASET.BINARY_LABELS:\n",
    "        examples['label'] = torch.unsqueeze(examples['label'], -1)\n",
    "    else:\n",
    "        examples['label'] = torch.tensor(examples['label'])\n",
    "    return examples\n",
    "\n",
    "train_ds.set_transform(img_label_to_tensor)\n",
    "val_ds.set_transform(img_label_to_tensor)"
   ]
  },
  {
   "cell_type": "code",
   "execution_count": 9,
   "metadata": {},
   "outputs": [
    {
     "data": {
      "text/plain": [
       "======================================================================\n",
       "Layer (type:depth-idx)                        Param #\n",
       "======================================================================\n",
       "ResNetModel                                   --\n",
       "├─ResNet: 1-1                                 --\n",
       "│    └─Conv2d: 2-1                            (9,408)\n",
       "│    └─BatchNorm2d: 2-2                       (128)\n",
       "│    └─ReLU: 2-3                              --\n",
       "│    └─MaxPool2d: 2-4                         --\n",
       "│    └─Sequential: 2-5                        --\n",
       "│    │    └─BasicBlock: 3-1                   (73,984)\n",
       "│    │    └─BasicBlock: 3-2                   (73,984)\n",
       "│    └─Sequential: 2-6                        --\n",
       "│    │    └─BasicBlock: 3-3                   (230,144)\n",
       "│    │    └─BasicBlock: 3-4                   (295,424)\n",
       "│    └─Sequential: 2-7                        --\n",
       "│    │    └─BasicBlock: 3-5                   (919,040)\n",
       "│    │    └─BasicBlock: 3-6                   (1,180,672)\n",
       "│    └─Sequential: 2-8                        --\n",
       "│    │    └─BasicBlock: 3-7                   (3,673,088)\n",
       "│    │    └─BasicBlock: 3-8                   4,720,640\n",
       "│    └─AdaptiveAvgPool2d: 2-9                 --\n",
       "│    └─Linear: 2-10                           2,565\n",
       "======================================================================\n",
       "Total params: 11,179,077\n",
       "Trainable params: 4,723,205\n",
       "Non-trainable params: 6,455,872\n",
       "======================================================================"
      ]
     },
     "execution_count": 9,
     "metadata": {},
     "output_type": "execute_result"
    }
   ],
   "source": [
    "num_cls = cfg.MODEL.N_CLASSES\n",
    "model_name = cfg.MODEL.NAME\n",
    "\n",
    "if 'multitask' in model_name:\n",
    "    backbone_name = model_name.split('_')[1:]\n",
    "    backbone = REGISTRY[backbone_name](classify=False, num_classes=num_cls)\n",
    "    model = MultitaskModel(backbone=backbone, head=Head)\n",
    "    train_heper = REGISTRY['multitask_train_helper']\n",
    "else:\n",
    "    model = REGISTRY[model_name](num_classes=num_cls)\n",
    "    train_heper = REGISTRY['inception_train_helper'] if 'inception' in model_name else REGISTRY['default_train_helper']\n",
    "\n",
    "param_groups = model.get_layer_groups()\n",
    "for param in param_groups['feature_extractor'][:-cfg.TRAINING.LAYERS_TO_FINETUNE]:\n",
    "    param.requires_grad = False\n",
    "\n",
    "summary(model)"
   ]
  },
  {
   "cell_type": "code",
   "execution_count": 10,
   "metadata": {},
   "outputs": [],
   "source": [
    "batch_size = cfg.DATASET.LOADER.BATCH_SIZE\n",
    "\n",
    "loader_train = DataLoader(train_ds,\n",
    "                    batch_size=batch_size,\n",
    "                    drop_last=True,\n",
    "                    shuffle=True)\n",
    "loader_val = DataLoader(val_ds,\n",
    "                    batch_size=batch_size,\n",
    "                    drop_last=True,\n",
    "                    shuffle=False)\n",
    "\n",
    "trainer = Trainer(model=model, train_dataloader=loader_train, val_dataloader=loader_val, train_helper=train_heper)\n",
    "optimizer = optim.Adam(\n",
    "    model.parameters(), \n",
    "    lr=cfg.TRAINING.OPTIMIZER.LR,\n",
    "    weight_decay=cfg.TRAINING.OPTIMIZER.WEIGHT_DECAY)\n",
    "\n",
    "if 'crossentropy' not in cfg.TRAINING.LOSS:\n",
    "    criterion = REGISTRY[cfg.TRAINING.LOSS]()\n",
    "else:\n",
    "    criterion = nn.BCEWithLogitsLoss()\n",
    "\n",
    "trainer.compile(loss=criterion, optimizer=optimizer, metrics={'acc': accuracy_score})"
   ]
  },
  {
   "cell_type": "code",
   "execution_count": 12,
   "metadata": {},
   "outputs": [
    {
     "name": "stdout",
     "output_type": "stream",
     "text": [
      "m\n",
      "a\n",
      "c\n",
      "r\n",
      "o\n",
      "Epoch 0:\n"
     ]
    },
    {
     "name": "stderr",
     "output_type": "stream",
     "text": [
      "Training...:   2%|▏         | 111/4963 [00:08<06:22, 12.70it/s, loss=18.9, acc=0.484] \n"
     ]
    },
    {
     "ename": "KeyboardInterrupt",
     "evalue": "",
     "output_type": "error",
     "traceback": [
      "\u001b[1;31m---------------------------------------------------------------------------\u001b[0m",
      "\u001b[1;31mKeyboardInterrupt\u001b[0m                         Traceback (most recent call last)",
      "\u001b[1;32mc:\\Users\\Martina\\Documents\\uni-projects\\smart-contracts-vulnerabilities\\train.ipynb Cell 8'\u001b[0m in \u001b[0;36m<cell line: 33>\u001b[1;34m()\u001b[0m\n\u001b[0;32m     <a href='vscode-notebook-cell:/c%3A/Users/Martina/Documents/uni-projects/smart-contracts-vulnerabilities/train.ipynb#ch0000006?line=24'>25</a>\u001b[0m \u001b[39mif\u001b[39;00m cfg\u001b[39m.\u001b[39mTRAINING\u001b[39m.\u001b[39mCHECKPOINTS\u001b[39m.\u001b[39mUSE:\n\u001b[0;32m     <a href='vscode-notebook-cell:/c%3A/Users/Martina/Documents/uni-projects/smart-contracts-vulnerabilities/train.ipynb#ch0000006?line=25'>26</a>\u001b[0m     callbacks\u001b[39m.\u001b[39mappend(CheckpointSaver(\n\u001b[0;32m     <a href='vscode-notebook-cell:/c%3A/Users/Martina/Documents/uni-projects/smart-contracts-vulnerabilities/train.ipynb#ch0000006?line=26'>27</a>\u001b[0m         model\u001b[39m=\u001b[39mmodel, \n\u001b[0;32m     <a href='vscode-notebook-cell:/c%3A/Users/Martina/Documents/uni-projects/smart-contracts-vulnerabilities/train.ipynb#ch0000006?line=27'>28</a>\u001b[0m         optimizer\u001b[39m=\u001b[39moptimizer, \n\u001b[0;32m     <a href='vscode-notebook-cell:/c%3A/Users/Martina/Documents/uni-projects/smart-contracts-vulnerabilities/train.ipynb#ch0000006?line=28'>29</a>\u001b[0m         monitor\u001b[39m=\u001b[39mcfg\u001b[39m.\u001b[39mTRAINING\u001b[39m.\u001b[39mCHECKPOINTS\u001b[39m.\u001b[39mMONITOR, \n\u001b[0;32m     <a href='vscode-notebook-cell:/c%3A/Users/Martina/Documents/uni-projects/smart-contracts-vulnerabilities/train.ipynb#ch0000006?line=29'>30</a>\u001b[0m         decreasing\u001b[39m=\u001b[39mcfg\u001b[39m.\u001b[39mTRAINING\u001b[39m.\u001b[39mCHECKPOINTS\u001b[39m.\u001b[39mDECREASING, \n\u001b[0;32m     <a href='vscode-notebook-cell:/c%3A/Users/Martina/Documents/uni-projects/smart-contracts-vulnerabilities/train.ipynb#ch0000006?line=30'>31</a>\u001b[0m         path\u001b[39m=\u001b[39mcfg\u001b[39m.\u001b[39mTRAINING\u001b[39m.\u001b[39mCHECKPOINTS\u001b[39m.\u001b[39mPATH))\n\u001b[1;32m---> <a href='vscode-notebook-cell:/c%3A/Users/Martina/Documents/uni-projects/smart-contracts-vulnerabilities/train.ipynb#ch0000006?line=32'>33</a>\u001b[0m trainer\u001b[39m.\u001b[39;49mfit(epochs\u001b[39m=\u001b[39;49mcfg\u001b[39m.\u001b[39;49mTRAINING\u001b[39m.\u001b[39;49mN_EPOCHS, callbacks\u001b[39m=\u001b[39;49mcallbacks)\n",
      "File \u001b[1;32mc:\\Users\\Martina\\Documents\\uni-projects\\smart-contracts-vulnerabilities\\src\\utils\\trainer.py:44\u001b[0m, in \u001b[0;36mTrainer.fit\u001b[1;34m(self, epochs, callbacks)\u001b[0m\n\u001b[0;32m     <a href='file:///c%3A/Users/Martina/Documents/uni-projects/smart-contracts-vulnerabilities/src/utils/trainer.py?line=41'>42</a>\u001b[0m \u001b[39mself\u001b[39m\u001b[39m.\u001b[39mlogs \u001b[39m=\u001b[39m \u001b[39mself\u001b[39m\u001b[39m.\u001b[39m__init_logs_dict()\n\u001b[0;32m     <a href='file:///c%3A/Users/Martina/Documents/uni-projects/smart-contracts-vulnerabilities/src/utils/trainer.py?line=42'>43</a>\u001b[0m \u001b[39mself\u001b[39m\u001b[39m.\u001b[39mlogs[\u001b[39m'\u001b[39m\u001b[39mepoch_num\u001b[39m\u001b[39m'\u001b[39m] \u001b[39m=\u001b[39m i\n\u001b[1;32m---> <a href='file:///c%3A/Users/Martina/Documents/uni-projects/smart-contracts-vulnerabilities/src/utils/trainer.py?line=43'>44</a>\u001b[0m \u001b[39mself\u001b[39;49m\u001b[39m.\u001b[39;49m__train_epoch(callbacks)\n\u001b[0;32m     <a href='file:///c%3A/Users/Martina/Documents/uni-projects/smart-contracts-vulnerabilities/src/utils/trainer.py?line=44'>45</a>\u001b[0m \u001b[39mfor\u001b[39;00m callback \u001b[39min\u001b[39;00m callbacks:\n\u001b[0;32m     <a href='file:///c%3A/Users/Martina/Documents/uni-projects/smart-contracts-vulnerabilities/src/utils/trainer.py?line=45'>46</a>\u001b[0m     \u001b[39mself\u001b[39m\u001b[39m.\u001b[39mlogs \u001b[39m=\u001b[39m callback\u001b[39m.\u001b[39mon_train_epoch_end(\u001b[39mself\u001b[39m\u001b[39m.\u001b[39mlogs)\n",
      "File \u001b[1;32mc:\\Users\\Martina\\Documents\\uni-projects\\smart-contracts-vulnerabilities\\src\\utils\\trainer.py:67\u001b[0m, in \u001b[0;36mTrainer.__train_epoch\u001b[1;34m(self, callbacks)\u001b[0m\n\u001b[0;32m     <a href='file:///c%3A/Users/Martina/Documents/uni-projects/smart-contracts-vulnerabilities/src/utils/trainer.py?line=64'>65</a>\u001b[0m running_metrics \u001b[39m=\u001b[39m [\u001b[39m0\u001b[39m \u001b[39mfor\u001b[39;00m _ \u001b[39min\u001b[39;00m \u001b[39mself\u001b[39m\u001b[39m.\u001b[39mmetrics]\n\u001b[0;32m     <a href='file:///c%3A/Users/Martina/Documents/uni-projects/smart-contracts-vulnerabilities/src/utils/trainer.py?line=65'>66</a>\u001b[0m pbar \u001b[39m=\u001b[39m tqdm(\u001b[39mself\u001b[39m\u001b[39m.\u001b[39mtrain_dataloader, desc\u001b[39m=\u001b[39m\u001b[39m'\u001b[39m\u001b[39mTraining...\u001b[39m\u001b[39m'\u001b[39m)\n\u001b[1;32m---> <a href='file:///c%3A/Users/Martina/Documents/uni-projects/smart-contracts-vulnerabilities/src/utils/trainer.py?line=66'>67</a>\u001b[0m \u001b[39mfor\u001b[39;00m data \u001b[39min\u001b[39;00m pbar:\n\u001b[0;32m     <a href='file:///c%3A/Users/Martina/Documents/uni-projects/smart-contracts-vulnerabilities/src/utils/trainer.py?line=67'>68</a>\u001b[0m     preds, labels, total_loss, loss \u001b[39m=\u001b[39m \u001b[39mself\u001b[39m\u001b[39m.\u001b[39mtrain_helper\u001b[39m.\u001b[39mstep(data, mode\u001b[39m=\u001b[39m\u001b[39m'\u001b[39m\u001b[39mtrain\u001b[39m\u001b[39m'\u001b[39m)\n\u001b[0;32m     <a href='file:///c%3A/Users/Martina/Documents/uni-projects/smart-contracts-vulnerabilities/src/utils/trainer.py?line=68'>69</a>\u001b[0m     \u001b[39mself\u001b[39m\u001b[39m.\u001b[39m__update_loss_and_preds(labels, preds, total_loss, mode\u001b[39m=\u001b[39m\u001b[39m'\u001b[39m\u001b[39mtrain\u001b[39m\u001b[39m'\u001b[39m)\n",
      "File \u001b[1;32mc:\\Users\\Martina\\miniconda3\\envs\\blockchain\\lib\\site-packages\\tqdm\\std.py:1195\u001b[0m, in \u001b[0;36mtqdm.__iter__\u001b[1;34m(self)\u001b[0m\n\u001b[0;32m   <a href='file:///c%3A/Users/Martina/miniconda3/envs/blockchain/lib/site-packages/tqdm/std.py?line=1191'>1192</a>\u001b[0m time \u001b[39m=\u001b[39m \u001b[39mself\u001b[39m\u001b[39m.\u001b[39m_time\n\u001b[0;32m   <a href='file:///c%3A/Users/Martina/miniconda3/envs/blockchain/lib/site-packages/tqdm/std.py?line=1193'>1194</a>\u001b[0m \u001b[39mtry\u001b[39;00m:\n\u001b[1;32m-> <a href='file:///c%3A/Users/Martina/miniconda3/envs/blockchain/lib/site-packages/tqdm/std.py?line=1194'>1195</a>\u001b[0m     \u001b[39mfor\u001b[39;00m obj \u001b[39min\u001b[39;00m iterable:\n\u001b[0;32m   <a href='file:///c%3A/Users/Martina/miniconda3/envs/blockchain/lib/site-packages/tqdm/std.py?line=1195'>1196</a>\u001b[0m         \u001b[39myield\u001b[39;00m obj\n\u001b[0;32m   <a href='file:///c%3A/Users/Martina/miniconda3/envs/blockchain/lib/site-packages/tqdm/std.py?line=1196'>1197</a>\u001b[0m         \u001b[39m# Update and possibly print the progressbar.\u001b[39;00m\n\u001b[0;32m   <a href='file:///c%3A/Users/Martina/miniconda3/envs/blockchain/lib/site-packages/tqdm/std.py?line=1197'>1198</a>\u001b[0m         \u001b[39m# Note: does not call self.update(1) for speed optimisation.\u001b[39;00m\n",
      "File \u001b[1;32mc:\\Users\\Martina\\miniconda3\\envs\\blockchain\\lib\\site-packages\\torch\\utils\\data\\dataloader.py:530\u001b[0m, in \u001b[0;36m_BaseDataLoaderIter.__next__\u001b[1;34m(self)\u001b[0m\n\u001b[0;32m    <a href='file:///c%3A/Users/Martina/miniconda3/envs/blockchain/lib/site-packages/torch/utils/data/dataloader.py?line=527'>528</a>\u001b[0m \u001b[39mif\u001b[39;00m \u001b[39mself\u001b[39m\u001b[39m.\u001b[39m_sampler_iter \u001b[39mis\u001b[39;00m \u001b[39mNone\u001b[39;00m:\n\u001b[0;32m    <a href='file:///c%3A/Users/Martina/miniconda3/envs/blockchain/lib/site-packages/torch/utils/data/dataloader.py?line=528'>529</a>\u001b[0m     \u001b[39mself\u001b[39m\u001b[39m.\u001b[39m_reset()\n\u001b[1;32m--> <a href='file:///c%3A/Users/Martina/miniconda3/envs/blockchain/lib/site-packages/torch/utils/data/dataloader.py?line=529'>530</a>\u001b[0m data \u001b[39m=\u001b[39m \u001b[39mself\u001b[39;49m\u001b[39m.\u001b[39;49m_next_data()\n\u001b[0;32m    <a href='file:///c%3A/Users/Martina/miniconda3/envs/blockchain/lib/site-packages/torch/utils/data/dataloader.py?line=530'>531</a>\u001b[0m \u001b[39mself\u001b[39m\u001b[39m.\u001b[39m_num_yielded \u001b[39m+\u001b[39m\u001b[39m=\u001b[39m \u001b[39m1\u001b[39m\n\u001b[0;32m    <a href='file:///c%3A/Users/Martina/miniconda3/envs/blockchain/lib/site-packages/torch/utils/data/dataloader.py?line=531'>532</a>\u001b[0m \u001b[39mif\u001b[39;00m \u001b[39mself\u001b[39m\u001b[39m.\u001b[39m_dataset_kind \u001b[39m==\u001b[39m _DatasetKind\u001b[39m.\u001b[39mIterable \u001b[39mand\u001b[39;00m \\\n\u001b[0;32m    <a href='file:///c%3A/Users/Martina/miniconda3/envs/blockchain/lib/site-packages/torch/utils/data/dataloader.py?line=532'>533</a>\u001b[0m         \u001b[39mself\u001b[39m\u001b[39m.\u001b[39m_IterableDataset_len_called \u001b[39mis\u001b[39;00m \u001b[39mnot\u001b[39;00m \u001b[39mNone\u001b[39;00m \u001b[39mand\u001b[39;00m \\\n\u001b[0;32m    <a href='file:///c%3A/Users/Martina/miniconda3/envs/blockchain/lib/site-packages/torch/utils/data/dataloader.py?line=533'>534</a>\u001b[0m         \u001b[39mself\u001b[39m\u001b[39m.\u001b[39m_num_yielded \u001b[39m>\u001b[39m \u001b[39mself\u001b[39m\u001b[39m.\u001b[39m_IterableDataset_len_called:\n",
      "File \u001b[1;32mc:\\Users\\Martina\\miniconda3\\envs\\blockchain\\lib\\site-packages\\torch\\utils\\data\\dataloader.py:570\u001b[0m, in \u001b[0;36m_SingleProcessDataLoaderIter._next_data\u001b[1;34m(self)\u001b[0m\n\u001b[0;32m    <a href='file:///c%3A/Users/Martina/miniconda3/envs/blockchain/lib/site-packages/torch/utils/data/dataloader.py?line=567'>568</a>\u001b[0m \u001b[39mdef\u001b[39;00m \u001b[39m_next_data\u001b[39m(\u001b[39mself\u001b[39m):\n\u001b[0;32m    <a href='file:///c%3A/Users/Martina/miniconda3/envs/blockchain/lib/site-packages/torch/utils/data/dataloader.py?line=568'>569</a>\u001b[0m     index \u001b[39m=\u001b[39m \u001b[39mself\u001b[39m\u001b[39m.\u001b[39m_next_index()  \u001b[39m# may raise StopIteration\u001b[39;00m\n\u001b[1;32m--> <a href='file:///c%3A/Users/Martina/miniconda3/envs/blockchain/lib/site-packages/torch/utils/data/dataloader.py?line=569'>570</a>\u001b[0m     data \u001b[39m=\u001b[39m \u001b[39mself\u001b[39;49m\u001b[39m.\u001b[39;49m_dataset_fetcher\u001b[39m.\u001b[39;49mfetch(index)  \u001b[39m# may raise StopIteration\u001b[39;00m\n\u001b[0;32m    <a href='file:///c%3A/Users/Martina/miniconda3/envs/blockchain/lib/site-packages/torch/utils/data/dataloader.py?line=570'>571</a>\u001b[0m     \u001b[39mif\u001b[39;00m \u001b[39mself\u001b[39m\u001b[39m.\u001b[39m_pin_memory:\n\u001b[0;32m    <a href='file:///c%3A/Users/Martina/miniconda3/envs/blockchain/lib/site-packages/torch/utils/data/dataloader.py?line=571'>572</a>\u001b[0m         data \u001b[39m=\u001b[39m _utils\u001b[39m.\u001b[39mpin_memory\u001b[39m.\u001b[39mpin_memory(data)\n",
      "File \u001b[1;32mc:\\Users\\Martina\\miniconda3\\envs\\blockchain\\lib\\site-packages\\torch\\utils\\data\\_utils\\fetch.py:49\u001b[0m, in \u001b[0;36m_MapDatasetFetcher.fetch\u001b[1;34m(self, possibly_batched_index)\u001b[0m\n\u001b[0;32m     <a href='file:///c%3A/Users/Martina/miniconda3/envs/blockchain/lib/site-packages/torch/utils/data/_utils/fetch.py?line=46'>47</a>\u001b[0m \u001b[39mdef\u001b[39;00m \u001b[39mfetch\u001b[39m(\u001b[39mself\u001b[39m, possibly_batched_index):\n\u001b[0;32m     <a href='file:///c%3A/Users/Martina/miniconda3/envs/blockchain/lib/site-packages/torch/utils/data/_utils/fetch.py?line=47'>48</a>\u001b[0m     \u001b[39mif\u001b[39;00m \u001b[39mself\u001b[39m\u001b[39m.\u001b[39mauto_collation:\n\u001b[1;32m---> <a href='file:///c%3A/Users/Martina/miniconda3/envs/blockchain/lib/site-packages/torch/utils/data/_utils/fetch.py?line=48'>49</a>\u001b[0m         data \u001b[39m=\u001b[39m [\u001b[39mself\u001b[39m\u001b[39m.\u001b[39mdataset[idx] \u001b[39mfor\u001b[39;00m idx \u001b[39min\u001b[39;00m possibly_batched_index]\n\u001b[0;32m     <a href='file:///c%3A/Users/Martina/miniconda3/envs/blockchain/lib/site-packages/torch/utils/data/_utils/fetch.py?line=49'>50</a>\u001b[0m     \u001b[39melse\u001b[39;00m:\n\u001b[0;32m     <a href='file:///c%3A/Users/Martina/miniconda3/envs/blockchain/lib/site-packages/torch/utils/data/_utils/fetch.py?line=50'>51</a>\u001b[0m         data \u001b[39m=\u001b[39m \u001b[39mself\u001b[39m\u001b[39m.\u001b[39mdataset[possibly_batched_index]\n",
      "File \u001b[1;32mc:\\Users\\Martina\\miniconda3\\envs\\blockchain\\lib\\site-packages\\torch\\utils\\data\\_utils\\fetch.py:49\u001b[0m, in \u001b[0;36m<listcomp>\u001b[1;34m(.0)\u001b[0m\n\u001b[0;32m     <a href='file:///c%3A/Users/Martina/miniconda3/envs/blockchain/lib/site-packages/torch/utils/data/_utils/fetch.py?line=46'>47</a>\u001b[0m \u001b[39mdef\u001b[39;00m \u001b[39mfetch\u001b[39m(\u001b[39mself\u001b[39m, possibly_batched_index):\n\u001b[0;32m     <a href='file:///c%3A/Users/Martina/miniconda3/envs/blockchain/lib/site-packages/torch/utils/data/_utils/fetch.py?line=47'>48</a>\u001b[0m     \u001b[39mif\u001b[39;00m \u001b[39mself\u001b[39m\u001b[39m.\u001b[39mauto_collation:\n\u001b[1;32m---> <a href='file:///c%3A/Users/Martina/miniconda3/envs/blockchain/lib/site-packages/torch/utils/data/_utils/fetch.py?line=48'>49</a>\u001b[0m         data \u001b[39m=\u001b[39m [\u001b[39mself\u001b[39;49m\u001b[39m.\u001b[39;49mdataset[idx] \u001b[39mfor\u001b[39;00m idx \u001b[39min\u001b[39;00m possibly_batched_index]\n\u001b[0;32m     <a href='file:///c%3A/Users/Martina/miniconda3/envs/blockchain/lib/site-packages/torch/utils/data/_utils/fetch.py?line=49'>50</a>\u001b[0m     \u001b[39melse\u001b[39;00m:\n\u001b[0;32m     <a href='file:///c%3A/Users/Martina/miniconda3/envs/blockchain/lib/site-packages/torch/utils/data/_utils/fetch.py?line=50'>51</a>\u001b[0m         data \u001b[39m=\u001b[39m \u001b[39mself\u001b[39m\u001b[39m.\u001b[39mdataset[possibly_batched_index]\n",
      "File \u001b[1;32mc:\\Users\\Martina\\miniconda3\\envs\\blockchain\\lib\\site-packages\\datasets\\arrow_dataset.py:2124\u001b[0m, in \u001b[0;36mDataset.__getitem__\u001b[1;34m(self, key)\u001b[0m\n\u001b[0;32m   <a href='file:///c%3A/Users/Martina/miniconda3/envs/blockchain/lib/site-packages/datasets/arrow_dataset.py?line=2121'>2122</a>\u001b[0m \u001b[39mdef\u001b[39;00m \u001b[39m__getitem__\u001b[39m(\u001b[39mself\u001b[39m, key):  \u001b[39m# noqa: F811\u001b[39;00m\n\u001b[0;32m   <a href='file:///c%3A/Users/Martina/miniconda3/envs/blockchain/lib/site-packages/datasets/arrow_dataset.py?line=2122'>2123</a>\u001b[0m     \u001b[39m\"\"\"Can be used to index columns (by string names) or rows (by integer index or iterable of indices or bools).\"\"\"\u001b[39;00m\n\u001b[1;32m-> <a href='file:///c%3A/Users/Martina/miniconda3/envs/blockchain/lib/site-packages/datasets/arrow_dataset.py?line=2123'>2124</a>\u001b[0m     \u001b[39mreturn\u001b[39;00m \u001b[39mself\u001b[39;49m\u001b[39m.\u001b[39;49m_getitem(\n\u001b[0;32m   <a href='file:///c%3A/Users/Martina/miniconda3/envs/blockchain/lib/site-packages/datasets/arrow_dataset.py?line=2124'>2125</a>\u001b[0m         key,\n\u001b[0;32m   <a href='file:///c%3A/Users/Martina/miniconda3/envs/blockchain/lib/site-packages/datasets/arrow_dataset.py?line=2125'>2126</a>\u001b[0m     )\n",
      "File \u001b[1;32mc:\\Users\\Martina\\miniconda3\\envs\\blockchain\\lib\\site-packages\\datasets\\arrow_dataset.py:2109\u001b[0m, in \u001b[0;36mDataset._getitem\u001b[1;34m(self, key, decoded, **kwargs)\u001b[0m\n\u001b[0;32m   <a href='file:///c%3A/Users/Martina/miniconda3/envs/blockchain/lib/site-packages/datasets/arrow_dataset.py?line=2106'>2107</a>\u001b[0m formatter \u001b[39m=\u001b[39m get_formatter(format_type, features\u001b[39m=\u001b[39m\u001b[39mself\u001b[39m\u001b[39m.\u001b[39mfeatures, decoded\u001b[39m=\u001b[39mdecoded, \u001b[39m*\u001b[39m\u001b[39m*\u001b[39mformat_kwargs)\n\u001b[0;32m   <a href='file:///c%3A/Users/Martina/miniconda3/envs/blockchain/lib/site-packages/datasets/arrow_dataset.py?line=2107'>2108</a>\u001b[0m pa_subtable \u001b[39m=\u001b[39m query_table(\u001b[39mself\u001b[39m\u001b[39m.\u001b[39m_data, key, indices\u001b[39m=\u001b[39m\u001b[39mself\u001b[39m\u001b[39m.\u001b[39m_indices \u001b[39mif\u001b[39;00m \u001b[39mself\u001b[39m\u001b[39m.\u001b[39m_indices \u001b[39mis\u001b[39;00m \u001b[39mnot\u001b[39;00m \u001b[39mNone\u001b[39;00m \u001b[39melse\u001b[39;00m \u001b[39mNone\u001b[39;00m)\n\u001b[1;32m-> <a href='file:///c%3A/Users/Martina/miniconda3/envs/blockchain/lib/site-packages/datasets/arrow_dataset.py?line=2108'>2109</a>\u001b[0m formatted_output \u001b[39m=\u001b[39m format_table(\n\u001b[0;32m   <a href='file:///c%3A/Users/Martina/miniconda3/envs/blockchain/lib/site-packages/datasets/arrow_dataset.py?line=2109'>2110</a>\u001b[0m     pa_subtable, key, formatter\u001b[39m=\u001b[39;49mformatter, format_columns\u001b[39m=\u001b[39;49mformat_columns, output_all_columns\u001b[39m=\u001b[39;49moutput_all_columns\n\u001b[0;32m   <a href='file:///c%3A/Users/Martina/miniconda3/envs/blockchain/lib/site-packages/datasets/arrow_dataset.py?line=2110'>2111</a>\u001b[0m )\n\u001b[0;32m   <a href='file:///c%3A/Users/Martina/miniconda3/envs/blockchain/lib/site-packages/datasets/arrow_dataset.py?line=2111'>2112</a>\u001b[0m \u001b[39mreturn\u001b[39;00m formatted_output\n",
      "File \u001b[1;32mc:\\Users\\Martina\\miniconda3\\envs\\blockchain\\lib\\site-packages\\datasets\\formatting\\formatting.py:532\u001b[0m, in \u001b[0;36mformat_table\u001b[1;34m(table, key, formatter, format_columns, output_all_columns)\u001b[0m\n\u001b[0;32m    <a href='file:///c%3A/Users/Martina/miniconda3/envs/blockchain/lib/site-packages/datasets/formatting/formatting.py?line=529'>530</a>\u001b[0m python_formatter \u001b[39m=\u001b[39m PythonFormatter(features\u001b[39m=\u001b[39m\u001b[39mNone\u001b[39;00m)\n\u001b[0;32m    <a href='file:///c%3A/Users/Martina/miniconda3/envs/blockchain/lib/site-packages/datasets/formatting/formatting.py?line=530'>531</a>\u001b[0m \u001b[39mif\u001b[39;00m format_columns \u001b[39mis\u001b[39;00m \u001b[39mNone\u001b[39;00m:\n\u001b[1;32m--> <a href='file:///c%3A/Users/Martina/miniconda3/envs/blockchain/lib/site-packages/datasets/formatting/formatting.py?line=531'>532</a>\u001b[0m     \u001b[39mreturn\u001b[39;00m formatter(pa_table, query_type\u001b[39m=\u001b[39;49mquery_type)\n\u001b[0;32m    <a href='file:///c%3A/Users/Martina/miniconda3/envs/blockchain/lib/site-packages/datasets/formatting/formatting.py?line=532'>533</a>\u001b[0m \u001b[39melif\u001b[39;00m query_type \u001b[39m==\u001b[39m \u001b[39m\"\u001b[39m\u001b[39mcolumn\u001b[39m\u001b[39m\"\u001b[39m:\n\u001b[0;32m    <a href='file:///c%3A/Users/Martina/miniconda3/envs/blockchain/lib/site-packages/datasets/formatting/formatting.py?line=533'>534</a>\u001b[0m     \u001b[39mif\u001b[39;00m key \u001b[39min\u001b[39;00m format_columns:\n",
      "File \u001b[1;32mc:\\Users\\Martina\\miniconda3\\envs\\blockchain\\lib\\site-packages\\datasets\\formatting\\formatting.py:281\u001b[0m, in \u001b[0;36mFormatter.__call__\u001b[1;34m(self, pa_table, query_type)\u001b[0m\n\u001b[0;32m    <a href='file:///c%3A/Users/Martina/miniconda3/envs/blockchain/lib/site-packages/datasets/formatting/formatting.py?line=278'>279</a>\u001b[0m \u001b[39mdef\u001b[39;00m \u001b[39m__call__\u001b[39m(\u001b[39mself\u001b[39m, pa_table: pa\u001b[39m.\u001b[39mTable, query_type: \u001b[39mstr\u001b[39m) \u001b[39m-\u001b[39m\u001b[39m>\u001b[39m Union[RowFormat, ColumnFormat, BatchFormat]:\n\u001b[0;32m    <a href='file:///c%3A/Users/Martina/miniconda3/envs/blockchain/lib/site-packages/datasets/formatting/formatting.py?line=279'>280</a>\u001b[0m     \u001b[39mif\u001b[39;00m query_type \u001b[39m==\u001b[39m \u001b[39m\"\u001b[39m\u001b[39mrow\u001b[39m\u001b[39m\"\u001b[39m:\n\u001b[1;32m--> <a href='file:///c%3A/Users/Martina/miniconda3/envs/blockchain/lib/site-packages/datasets/formatting/formatting.py?line=280'>281</a>\u001b[0m         \u001b[39mreturn\u001b[39;00m \u001b[39mself\u001b[39;49m\u001b[39m.\u001b[39;49mformat_row(pa_table)\n\u001b[0;32m    <a href='file:///c%3A/Users/Martina/miniconda3/envs/blockchain/lib/site-packages/datasets/formatting/formatting.py?line=281'>282</a>\u001b[0m     \u001b[39melif\u001b[39;00m query_type \u001b[39m==\u001b[39m \u001b[39m\"\u001b[39m\u001b[39mcolumn\u001b[39m\u001b[39m\"\u001b[39m:\n\u001b[0;32m    <a href='file:///c%3A/Users/Martina/miniconda3/envs/blockchain/lib/site-packages/datasets/formatting/formatting.py?line=282'>283</a>\u001b[0m         \u001b[39mreturn\u001b[39;00m \u001b[39mself\u001b[39m\u001b[39m.\u001b[39mformat_column(pa_table)\n",
      "File \u001b[1;32mc:\\Users\\Martina\\miniconda3\\envs\\blockchain\\lib\\site-packages\\datasets\\formatting\\formatting.py:387\u001b[0m, in \u001b[0;36mCustomFormatter.format_row\u001b[1;34m(self, pa_table)\u001b[0m\n\u001b[0;32m    <a href='file:///c%3A/Users/Martina/miniconda3/envs/blockchain/lib/site-packages/datasets/formatting/formatting.py?line=385'>386</a>\u001b[0m \u001b[39mdef\u001b[39;00m \u001b[39mformat_row\u001b[39m(\u001b[39mself\u001b[39m, pa_table: pa\u001b[39m.\u001b[39mTable) \u001b[39m-\u001b[39m\u001b[39m>\u001b[39m \u001b[39mdict\u001b[39m:\n\u001b[1;32m--> <a href='file:///c%3A/Users/Martina/miniconda3/envs/blockchain/lib/site-packages/datasets/formatting/formatting.py?line=386'>387</a>\u001b[0m     formatted_batch \u001b[39m=\u001b[39m \u001b[39mself\u001b[39;49m\u001b[39m.\u001b[39;49mformat_batch(pa_table)\n\u001b[0;32m    <a href='file:///c%3A/Users/Martina/miniconda3/envs/blockchain/lib/site-packages/datasets/formatting/formatting.py?line=387'>388</a>\u001b[0m     \u001b[39mtry\u001b[39;00m:\n\u001b[0;32m    <a href='file:///c%3A/Users/Martina/miniconda3/envs/blockchain/lib/site-packages/datasets/formatting/formatting.py?line=388'>389</a>\u001b[0m         \u001b[39mreturn\u001b[39;00m _unnest(formatted_batch)\n",
      "File \u001b[1;32mc:\\Users\\Martina\\miniconda3\\envs\\blockchain\\lib\\site-packages\\datasets\\formatting\\formatting.py:417\u001b[0m, in \u001b[0;36mCustomFormatter.format_batch\u001b[1;34m(self, pa_table)\u001b[0m\n\u001b[0;32m    <a href='file:///c%3A/Users/Martina/miniconda3/envs/blockchain/lib/site-packages/datasets/formatting/formatting.py?line=414'>415</a>\u001b[0m batch \u001b[39m=\u001b[39m \u001b[39mself\u001b[39m\u001b[39m.\u001b[39mpython_arrow_extractor()\u001b[39m.\u001b[39mextract_batch(pa_table)\n\u001b[0;32m    <a href='file:///c%3A/Users/Martina/miniconda3/envs/blockchain/lib/site-packages/datasets/formatting/formatting.py?line=415'>416</a>\u001b[0m \u001b[39mif\u001b[39;00m \u001b[39mself\u001b[39m\u001b[39m.\u001b[39mdecoded:\n\u001b[1;32m--> <a href='file:///c%3A/Users/Martina/miniconda3/envs/blockchain/lib/site-packages/datasets/formatting/formatting.py?line=416'>417</a>\u001b[0m     batch \u001b[39m=\u001b[39m \u001b[39mself\u001b[39;49m\u001b[39m.\u001b[39;49mpython_features_decoder\u001b[39m.\u001b[39;49mdecode_batch(batch)\n\u001b[0;32m    <a href='file:///c%3A/Users/Martina/miniconda3/envs/blockchain/lib/site-packages/datasets/formatting/formatting.py?line=417'>418</a>\u001b[0m \u001b[39mreturn\u001b[39;00m \u001b[39mself\u001b[39m\u001b[39m.\u001b[39mtransform(batch)\n",
      "File \u001b[1;32mc:\\Users\\Martina\\miniconda3\\envs\\blockchain\\lib\\site-packages\\datasets\\formatting\\formatting.py:227\u001b[0m, in \u001b[0;36mPythonFeaturesDecoder.decode_batch\u001b[1;34m(self, batch)\u001b[0m\n\u001b[0;32m    <a href='file:///c%3A/Users/Martina/miniconda3/envs/blockchain/lib/site-packages/datasets/formatting/formatting.py?line=225'>226</a>\u001b[0m \u001b[39mdef\u001b[39;00m \u001b[39mdecode_batch\u001b[39m(\u001b[39mself\u001b[39m, batch: \u001b[39mdict\u001b[39m) \u001b[39m-\u001b[39m\u001b[39m>\u001b[39m \u001b[39mdict\u001b[39m:\n\u001b[1;32m--> <a href='file:///c%3A/Users/Martina/miniconda3/envs/blockchain/lib/site-packages/datasets/formatting/formatting.py?line=226'>227</a>\u001b[0m     \u001b[39mreturn\u001b[39;00m \u001b[39mself\u001b[39;49m\u001b[39m.\u001b[39;49mfeatures\u001b[39m.\u001b[39;49mdecode_batch(batch) \u001b[39mif\u001b[39;00m \u001b[39mself\u001b[39m\u001b[39m.\u001b[39mfeatures \u001b[39melse\u001b[39;00m batch\n",
      "File \u001b[1;32mc:\\Users\\Martina\\miniconda3\\envs\\blockchain\\lib\\site-packages\\datasets\\features\\features.py:1493\u001b[0m, in \u001b[0;36mFeatures.decode_batch\u001b[1;34m(self, batch)\u001b[0m\n\u001b[0;32m   <a href='file:///c%3A/Users/Martina/miniconda3/envs/blockchain/lib/site-packages/datasets/features/features.py?line=1489'>1490</a>\u001b[0m decoded_batch \u001b[39m=\u001b[39m {}\n\u001b[0;32m   <a href='file:///c%3A/Users/Martina/miniconda3/envs/blockchain/lib/site-packages/datasets/features/features.py?line=1490'>1491</a>\u001b[0m \u001b[39mfor\u001b[39;00m column_name, column \u001b[39min\u001b[39;00m batch\u001b[39m.\u001b[39mitems():\n\u001b[0;32m   <a href='file:///c%3A/Users/Martina/miniconda3/envs/blockchain/lib/site-packages/datasets/features/features.py?line=1491'>1492</a>\u001b[0m     decoded_batch[column_name] \u001b[39m=\u001b[39m (\n\u001b[1;32m-> <a href='file:///c%3A/Users/Martina/miniconda3/envs/blockchain/lib/site-packages/datasets/features/features.py?line=1492'>1493</a>\u001b[0m         [decode_nested_example(\u001b[39mself\u001b[39m[column_name], value) \u001b[39mif\u001b[39;00m value \u001b[39mis\u001b[39;00m \u001b[39mnot\u001b[39;00m \u001b[39mNone\u001b[39;00m \u001b[39melse\u001b[39;00m \u001b[39mNone\u001b[39;00m \u001b[39mfor\u001b[39;00m value \u001b[39min\u001b[39;00m column]\n\u001b[0;32m   <a href='file:///c%3A/Users/Martina/miniconda3/envs/blockchain/lib/site-packages/datasets/features/features.py?line=1493'>1494</a>\u001b[0m         \u001b[39mif\u001b[39;00m \u001b[39mself\u001b[39m\u001b[39m.\u001b[39m_column_requires_decoding[column_name]\n\u001b[0;32m   <a href='file:///c%3A/Users/Martina/miniconda3/envs/blockchain/lib/site-packages/datasets/features/features.py?line=1494'>1495</a>\u001b[0m         \u001b[39melse\u001b[39;00m column\n\u001b[0;32m   <a href='file:///c%3A/Users/Martina/miniconda3/envs/blockchain/lib/site-packages/datasets/features/features.py?line=1495'>1496</a>\u001b[0m     )\n\u001b[0;32m   <a href='file:///c%3A/Users/Martina/miniconda3/envs/blockchain/lib/site-packages/datasets/features/features.py?line=1496'>1497</a>\u001b[0m \u001b[39mreturn\u001b[39;00m decoded_batch\n",
      "File \u001b[1;32mc:\\Users\\Martina\\miniconda3\\envs\\blockchain\\lib\\site-packages\\datasets\\features\\features.py:1493\u001b[0m, in \u001b[0;36m<listcomp>\u001b[1;34m(.0)\u001b[0m\n\u001b[0;32m   <a href='file:///c%3A/Users/Martina/miniconda3/envs/blockchain/lib/site-packages/datasets/features/features.py?line=1489'>1490</a>\u001b[0m decoded_batch \u001b[39m=\u001b[39m {}\n\u001b[0;32m   <a href='file:///c%3A/Users/Martina/miniconda3/envs/blockchain/lib/site-packages/datasets/features/features.py?line=1490'>1491</a>\u001b[0m \u001b[39mfor\u001b[39;00m column_name, column \u001b[39min\u001b[39;00m batch\u001b[39m.\u001b[39mitems():\n\u001b[0;32m   <a href='file:///c%3A/Users/Martina/miniconda3/envs/blockchain/lib/site-packages/datasets/features/features.py?line=1491'>1492</a>\u001b[0m     decoded_batch[column_name] \u001b[39m=\u001b[39m (\n\u001b[1;32m-> <a href='file:///c%3A/Users/Martina/miniconda3/envs/blockchain/lib/site-packages/datasets/features/features.py?line=1492'>1493</a>\u001b[0m         [decode_nested_example(\u001b[39mself\u001b[39;49m[column_name], value) \u001b[39mif\u001b[39;00m value \u001b[39mis\u001b[39;00m \u001b[39mnot\u001b[39;00m \u001b[39mNone\u001b[39;00m \u001b[39melse\u001b[39;00m \u001b[39mNone\u001b[39;00m \u001b[39mfor\u001b[39;00m value \u001b[39min\u001b[39;00m column]\n\u001b[0;32m   <a href='file:///c%3A/Users/Martina/miniconda3/envs/blockchain/lib/site-packages/datasets/features/features.py?line=1493'>1494</a>\u001b[0m         \u001b[39mif\u001b[39;00m \u001b[39mself\u001b[39m\u001b[39m.\u001b[39m_column_requires_decoding[column_name]\n\u001b[0;32m   <a href='file:///c%3A/Users/Martina/miniconda3/envs/blockchain/lib/site-packages/datasets/features/features.py?line=1494'>1495</a>\u001b[0m         \u001b[39melse\u001b[39;00m column\n\u001b[0;32m   <a href='file:///c%3A/Users/Martina/miniconda3/envs/blockchain/lib/site-packages/datasets/features/features.py?line=1495'>1496</a>\u001b[0m     )\n\u001b[0;32m   <a href='file:///c%3A/Users/Martina/miniconda3/envs/blockchain/lib/site-packages/datasets/features/features.py?line=1496'>1497</a>\u001b[0m \u001b[39mreturn\u001b[39;00m decoded_batch\n",
      "File \u001b[1;32mc:\\Users\\Martina\\miniconda3\\envs\\blockchain\\lib\\site-packages\\datasets\\features\\features.py:1105\u001b[0m, in \u001b[0;36mdecode_nested_example\u001b[1;34m(schema, obj, token_per_repo_id)\u001b[0m\n\u001b[0;32m   <a href='file:///c%3A/Users/Martina/miniconda3/envs/blockchain/lib/site-packages/datasets/features/features.py?line=1101'>1102</a>\u001b[0m \u001b[39m# Object with special decoding:\u001b[39;00m\n\u001b[0;32m   <a href='file:///c%3A/Users/Martina/miniconda3/envs/blockchain/lib/site-packages/datasets/features/features.py?line=1102'>1103</a>\u001b[0m \u001b[39melif\u001b[39;00m \u001b[39misinstance\u001b[39m(schema, (Audio, Image)):\n\u001b[0;32m   <a href='file:///c%3A/Users/Martina/miniconda3/envs/blockchain/lib/site-packages/datasets/features/features.py?line=1103'>1104</a>\u001b[0m     \u001b[39m# we pass the token to read and decode files from private repositories in streaming mode\u001b[39;00m\n\u001b[1;32m-> <a href='file:///c%3A/Users/Martina/miniconda3/envs/blockchain/lib/site-packages/datasets/features/features.py?line=1104'>1105</a>\u001b[0m     \u001b[39mreturn\u001b[39;00m schema\u001b[39m.\u001b[39;49mdecode_example(obj, token_per_repo_id\u001b[39m=\u001b[39;49mtoken_per_repo_id) \u001b[39mif\u001b[39;00m obj \u001b[39mis\u001b[39;00m \u001b[39mnot\u001b[39;00m \u001b[39mNone\u001b[39;00m \u001b[39melse\u001b[39;00m \u001b[39mNone\u001b[39;00m\n\u001b[0;32m   <a href='file:///c%3A/Users/Martina/miniconda3/envs/blockchain/lib/site-packages/datasets/features/features.py?line=1105'>1106</a>\u001b[0m \u001b[39mreturn\u001b[39;00m obj\n",
      "File \u001b[1;32mc:\\Users\\Martina\\miniconda3\\envs\\blockchain\\lib\\site-packages\\datasets\\features\\image.py:133\u001b[0m, in \u001b[0;36mImage.decode_example\u001b[1;34m(self, value, token_per_repo_id)\u001b[0m\n\u001b[0;32m    <a href='file:///c%3A/Users/Martina/miniconda3/envs/blockchain/lib/site-packages/datasets/features/image.py?line=130'>131</a>\u001b[0m \u001b[39melse\u001b[39;00m:\n\u001b[0;32m    <a href='file:///c%3A/Users/Martina/miniconda3/envs/blockchain/lib/site-packages/datasets/features/image.py?line=131'>132</a>\u001b[0m     image \u001b[39m=\u001b[39m PIL\u001b[39m.\u001b[39mImage\u001b[39m.\u001b[39mopen(BytesIO(bytes_))\n\u001b[1;32m--> <a href='file:///c%3A/Users/Martina/miniconda3/envs/blockchain/lib/site-packages/datasets/features/image.py?line=132'>133</a>\u001b[0m image\u001b[39m.\u001b[39;49mload()  \u001b[39m# to avoid \"Too many open files\" errors\u001b[39;00m\n\u001b[0;32m    <a href='file:///c%3A/Users/Martina/miniconda3/envs/blockchain/lib/site-packages/datasets/features/image.py?line=133'>134</a>\u001b[0m \u001b[39mreturn\u001b[39;00m image\n",
      "File \u001b[1;32mc:\\Users\\Martina\\miniconda3\\envs\\blockchain\\lib\\site-packages\\PIL\\ImageFile.py:253\u001b[0m, in \u001b[0;36mImageFile.load\u001b[1;34m(self)\u001b[0m\n\u001b[0;32m    <a href='file:///c%3A/Users/Martina/miniconda3/envs/blockchain/lib/site-packages/PIL/ImageFile.py?line=246'>247</a>\u001b[0m         \u001b[39mraise\u001b[39;00m \u001b[39mOSError\u001b[39;00m(\n\u001b[0;32m    <a href='file:///c%3A/Users/Martina/miniconda3/envs/blockchain/lib/site-packages/PIL/ImageFile.py?line=247'>248</a>\u001b[0m             \u001b[39m\"\u001b[39m\u001b[39mimage file is truncated \u001b[39m\u001b[39m\"\u001b[39m\n\u001b[0;32m    <a href='file:///c%3A/Users/Martina/miniconda3/envs/blockchain/lib/site-packages/PIL/ImageFile.py?line=248'>249</a>\u001b[0m             \u001b[39mf\u001b[39m\u001b[39m\"\u001b[39m\u001b[39m(\u001b[39m\u001b[39m{\u001b[39;00m\u001b[39mlen\u001b[39m(b)\u001b[39m}\u001b[39;00m\u001b[39m bytes not processed)\u001b[39m\u001b[39m\"\u001b[39m\n\u001b[0;32m    <a href='file:///c%3A/Users/Martina/miniconda3/envs/blockchain/lib/site-packages/PIL/ImageFile.py?line=249'>250</a>\u001b[0m         )\n\u001b[0;32m    <a href='file:///c%3A/Users/Martina/miniconda3/envs/blockchain/lib/site-packages/PIL/ImageFile.py?line=251'>252</a>\u001b[0m b \u001b[39m=\u001b[39m b \u001b[39m+\u001b[39m s\n\u001b[1;32m--> <a href='file:///c%3A/Users/Martina/miniconda3/envs/blockchain/lib/site-packages/PIL/ImageFile.py?line=252'>253</a>\u001b[0m n, err_code \u001b[39m=\u001b[39m decoder\u001b[39m.\u001b[39;49mdecode(b)\n\u001b[0;32m    <a href='file:///c%3A/Users/Martina/miniconda3/envs/blockchain/lib/site-packages/PIL/ImageFile.py?line=253'>254</a>\u001b[0m \u001b[39mif\u001b[39;00m n \u001b[39m<\u001b[39m \u001b[39m0\u001b[39m:\n\u001b[0;32m    <a href='file:///c%3A/Users/Martina/miniconda3/envs/blockchain/lib/site-packages/PIL/ImageFile.py?line=254'>255</a>\u001b[0m     \u001b[39mbreak\u001b[39;00m\n",
      "\u001b[1;31mKeyboardInterrupt\u001b[0m: "
     ]
    }
   ],
   "source": [
    "callbacks = []\n",
    "\n",
    "if cfg.TRAINING.TRACK_METRICS.USE:\n",
    "    metrics = {}\n",
    "    for avg in cfg.TRAINING.TRACK_METRICS.AVERAGE:\n",
    "        print(avg)\n",
    "        metrics.update({avg + '_' + metric: REGISTRY[metric](average=avg, labels=np.arange(0, num_cls)) for metric in cfg.TRAINING.TRACK_METRICS.NAMES})\n",
    "    callbacks.append(MetricsCallback(metrics=metrics))\n",
    "\n",
    "if cfg.TRAINING.LOGGER.USE:\n",
    "    add_to_logging = [] if not cfg.TRAINING.TRACK_METRICS.USE else metrics.keys()\n",
    "    callbacks.append(TensorBoardLogger(\n",
    "        track_epochwise=['loss', 'acc', *add_to_logging], \n",
    "        run_tag=cfg.TRAINING.LOGGER.RUN_TAG))\n",
    "\n",
    "if cfg.TRAINING.EARLY_STOPPING.USE:\n",
    "    callbacks.append(EarlyStopper(\n",
    "        model=model, \n",
    "        metric_name=cfg.TRAINING.EARLY_STOPPING.MONITOR, \n",
    "        decreasing=cfg.TRAINING.EARLY_STOPPING.DECREASING, \n",
    "        restore_best_weights=True, \n",
    "        patience=cfg.TRAINING.EARLY_STOPPING.PATIENCE))\n",
    "\n",
    "\n",
    "if cfg.TRAINING.CHECKPOINTS.USE:\n",
    "    callbacks.append(CheckpointSaver(\n",
    "        model=model, \n",
    "        optimizer=optimizer, \n",
    "        monitor=cfg.TRAINING.CHECKPOINTS.MONITOR, \n",
    "        decreasing=cfg.TRAINING.CHECKPOINTS.DECREASING, \n",
    "        path=cfg.TRAINING.CHECKPOINTS.PATH))\n",
    "\n",
    "trainer.fit(epochs=cfg.TRAINING.N_EPOCHS, callbacks=callbacks)"
   ]
  },
  {
   "cell_type": "code",
   "execution_count": null,
   "metadata": {},
   "outputs": [],
   "source": []
  }
 ],
 "metadata": {
  "interpreter": {
   "hash": "db1cc9ad4e9485405650762932d7415571cc14530bd4f6839bd14d356cc111e6"
  },
  "kernelspec": {
   "display_name": "Python 3.9.11 ('blockchain')",
   "language": "python",
   "name": "python3"
  },
  "language_info": {
   "codemirror_mode": {
    "name": "ipython",
    "version": 3
   },
   "file_extension": ".py",
   "mimetype": "text/x-python",
   "name": "python",
   "nbconvert_exporter": "python",
   "pygments_lexer": "ipython3",
   "version": "3.9.11"
  },
  "orig_nbformat": 4
 },
 "nbformat": 4,
 "nbformat_minor": 2
}
